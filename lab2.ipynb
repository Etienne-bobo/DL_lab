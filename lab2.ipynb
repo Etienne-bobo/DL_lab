{
 "cells": [
  {
   "cell_type": "markdown",
   "metadata": {},
   "source": [
    "Students:\n",
    "\n",
    "- ...\n",
    "- ...\n",
    "- ...\n",
    "\n",
    "# Deep Learning - Lab Exercise 2\n",
    "\n",
    "**WARNING:** you must have finished the first exercise before this one as you will re-use parts of the code.\n",
    "\n",
    "In the first lab exercise, we built a simple linear classifier.\n",
    "Although it can give reasonable results on the MNIST dataset (~92.5% of accuracy), deeper neural networks can achieve more the 99% accuracy.\n",
    "However, it can quickly become really impracical to explicitly code forward and backward passes.\n",
    "Hence, it is useful to rely on an auto-diff library where we specify the forward pass once, and the backward pass is automatically deduced from the computational graph structure.\n",
    "\n",
    "In this lab exercise, we will build a small and simple auto-diff lib that mimics the autograd mechanism from Pytorch (of course, we will simplify a lot!)\n"
   ]
  },
  {
   "cell_type": "code",
   "execution_count": 1,
   "metadata": {},
   "outputs": [],
   "source": [
    "# import libs that we will use\n",
    "import os\n",
    "import numpy as np\n",
    "import matplotlib.pyplot as plt\n",
    "import math\n",
    "\n",
    "# To load the data we will use the script of Gaetan Marceau Caron\n",
    "# You can download it from the course webiste and move it to the same directory that contains this ipynb file\n",
    "import dataset_loader\n",
    "\n",
    "%matplotlib inline"
   ]
  },
  {
   "cell_type": "markdown",
   "metadata": {},
   "source": [
    "# Data"
   ]
  },
  {
   "cell_type": "code",
   "execution_count": 2,
   "metadata": {},
   "outputs": [],
   "source": [
    "# Download mnist dataset \n",
    "if(\"mnist.pkl.gz\" not in os.listdir(\".\")):\n",
    "    # this link doesn't work any more,\n",
    "    # seach on google for the file \"mnist.pkl.gz\"\n",
    "    # and download it\n",
    "    !wget http://deeplearning.net/data/mnist/mnist.pkl.gz\n",
    "\n",
    "# if you have it somewhere else, you can comment the lines above\n",
    "# and overwrite the path below\n",
    "mnist_path = \"./mnist.pkl.gz\""
   ]
  },
  {
   "cell_type": "code",
   "execution_count": 3,
   "metadata": {},
   "outputs": [],
   "source": [
    "# load the 3 splits\n",
    "train_data, dev_data, test_data = dataset_loader.load_mnist(mnist_path)"
   ]
  },
  {
   "cell_type": "code",
   "execution_count": 4,
   "metadata": {},
   "outputs": [
    {
     "name": "stdout",
     "output_type": "stream",
     "text": [
      "label: 3\n"
     ]
    },
    {
     "data": {
      "text/plain": [
       "<matplotlib.image.AxesImage at 0x27f0004cb20>"
      ]
     },
     "execution_count": 4,
     "metadata": {},
     "output_type": "execute_result"
    },
    {
     "data": {
      "image/png": "[encoded data removed]",
      "text/plain": [
       "<Figure size 640x480 with 1 Axes>"
      ]
     },
     "metadata": {},
     "output_type": "display_data"
    }
   ],
   "source": [
    "index = 900\n",
    "label = train_data[1][index]\n",
    "picture = train_data[0][index]\n",
    "\n",
    "print(\"label: %i\" % label)\n",
    "plt.imshow(picture.reshape(28,28), cmap='Greys')"
   ]
  },
  {
   "cell_type": "markdown",
   "metadata": {},
   "source": [
    "# Computation nodes\n",
    "\n",
    "Instead of directly manipulating numpy arrays, we will manipulate abstraction that contains:\n",
    "- a value (i.e. a numpy array)\n",
    "- a bool indicating if we wish to compute the gradient with respect to the value\n",
    "- the gradient with respect to the value\n",
    "- the operation to call during backpropagation\n",
    "\n",
    "There will be two kind of nodes:\n",
    "- Tensor: a generic computation node\n",
    "- Parameter: a computation node that is used to store parameters of the network. Parameters are always leaf nodes, i.e. they cannot be build from other computation nodes.\n",
    "\n",
    "Our implementation of the backward pass will be really simple and incorrect in the general case (i.e. won't work with computation graph with loops).\n",
    "We will just apply the derivative function for a given tensor and then call the ones of its antecedents, recursively.\n",
    "This simple algorithm is good enough for this exercise.\n",
    "\n",
    "Note that a real implementation of backprop will store temporary values during forward that can be used during backward to improve computation speed. We do not do that here."
   ]
  },
  {
   "cell_type": "code",
   "execution_count": 75,
   "metadata": {},
   "outputs": [],
   "source": [
    "class Tensor:\n",
    "    def __init__(self, data, require_grad=False):\n",
    "        # test type of data: should be np array\n",
    "        if isinstance(data, float):\n",
    "            data = np.array([data,])\n",
    "        if type(data) != np.ndarray:\n",
    "            raise RuntimeError(\"Input should be a numpy array\")\n",
    "\n",
    "        # store data for this tensor\n",
    "        self.data = data\n",
    "        self.require_grad = require_grad\n",
    "        \n",
    "        # this values should be set to enable autograd!\n",
    "        self.gradient = None\n",
    "        self.d = None\n",
    "        self.backptr = None\n",
    "        \n",
    "    def zero_grad(self):\n",
    "        \"\"\"\n",
    "        Set the gradient of thie tensor to 0\n",
    "        \"\"\"\n",
    "        if self.require_grad:\n",
    "            self.gradient = np.zeros_like(self.data)\n",
    "            \n",
    "    def accumulate_gradient(self, gradient):\n",
    "        \"\"\"\n",
    "        Accumulte gradient for this tensor\n",
    "        \"\"\"\n",
    "        if gradient.shape != self.data.shape:\n",
    "            raise RuntimeError(\"Invalid gradient dimension\")\n",
    "\n",
    "        if self.gradient is None:\n",
    "            self.gradient = np.copy(gradient)\n",
    "        else:\n",
    "            self.gradient += gradient\n",
    "            \n",
    "    def backward(self, g=None):\n",
    "        \"\"\"\n",
    "        The backward pass!\n",
    "        If g != None, then g is the gradient for the current node.\n",
    "        i.e. g will be != None only for the loss output.\n",
    "        \n",
    "        You should call the function stored in self.d with correct arguments,\n",
    "        and then recursively call the backward methods of tensors in the backptr list if:\n",
    "        1. they require a gradient\n",
    "        2. they are of type Tensor: check with isinstance(o, Tensor)\n",
    "        \"\"\"\n",
    "        if not self.require_grad:  # stop right now if this node does not require a gradient\n",
    "            return\n",
    "        \n",
    "        if g is not None:\n",
    "            if isinstance(g, float):\n",
    "                g = np.array([g])\n",
    "            if type(g) != np.ndarray:\n",
    "                raise RuntimeError(\"Gradient should be a numpy array\")\n",
    "            if g.shape != self.data.shape:\n",
    "                raise RuntimeError(\"Gradient of different size than the value!\")\n",
    "                \n",
    "            self.gradient = g\n",
    "\n",
    "        # run the backward \n",
    "        self.d( self.backptr, self.gradient )\n",
    "        for o in self.backptr:\n",
    "            if isinstance(o, Tensor) and not isinstance(o, Parameter) and o.require_grad:\n",
    "                o.backward()\n",
    "    \n",
    "    \n",
    "    \n",
    "class Parameter(Tensor):\n",
    "    \"\"\"\n",
    "    This class will be used to store parameters of the network only!\n",
    "    \"\"\"\n",
    "    def __init__(self, data, name=\"unamed\"):\n",
    "        super().__init__(data, require_grad=True)\n",
    "        self.name = name\n",
    "        \n",
    "    def backward(self):\n",
    "        raise RuntimeError(\"You cannot backprop from a Parameter node\")"
   ]
  },
  {
   "cell_type": "markdown",
   "metadata": {},
   "source": [
    "# Functions\n",
    "\n",
    "Functions manipulate tensors and build the required information for autograd.\n",
    "A function returns a Tensor that should have require_grad = True if at least of the arguments require a gradient."
   ]
  },
  {
   "cell_type": "code",
   "execution_count": 76,
   "metadata": {},
   "outputs": [],
   "source": [
    "def any_require_grad(l):\n",
    "    \"\"\"\n",
    "    Input:\n",
    "    - l: an iterable (e.g. a list)\n",
    "    Ouput:\n",
    "    - True if any tensor in the input requires a gradient\n",
    "    \"\"\"\n",
    "    return any(t.require_grad for t in l)"
   ]
  },
  {
   "cell_type": "code",
   "execution_count": 77,
   "metadata": {},
   "outputs": [],
   "source": [
    "# Here is an exemple with the ReLU\n",
    "def relu(x):\n",
    "    v = np.maximum(0, x.data)\n",
    "    \n",
    "    output = Tensor(v, require_grad=x.require_grad)\n",
    "    output.d = backward_relu\n",
    "    output.backptr = [x]\n",
    "    \n",
    "    return output\n",
    "\n",
    "def backward_relu(backptr, g):\n",
    "    x, = backptr\n",
    "    \n",
    "    # the gradient is accumulated in the arguments only if required\n",
    "    if x.require_grad:\n",
    "        x.accumulate_gradient(g * (x.data > 0))"
   ]
  },
  {
   "cell_type": "code",
   "execution_count": 78,
   "metadata": {},
   "outputs": [],
   "source": [
    "def tanh(x): \n",
    "    v=np.tanh(x.data)\n",
    "    output=Tensor(v,require_grad=x.require_grad)\n",
    "    output.d=backward_tanh\n",
    "    output.backptr=[x]\n",
    "    return output\n",
    "\n",
    "def backward_tanh(backptr, g):\n",
    "    x, = backptr\n",
    "    if x.require_grad:\n",
    "        x.accumulate_gradient(g * (1 - np.tanh(x.data)**2))"
   ]
  },
  {
   "cell_type": "markdown",
   "metadata": {},
   "source": [
    "Next, we implement the affine transform operation.\n",
    "You can reuse the code from the first lab exercise, with one major difference: you have to compute the gradient with respect to x too!"
   ]
  },
  {
   "cell_type": "code",
   "execution_count": 79,
   "metadata": {},
   "outputs": [],
   "source": [
    "def affine_transform(W, b, x):\n",
    "    \"\"\"\n",
    "    Input:\n",
    "    - W: a Parameter of shape (D, M)\n",
    "    - b: a Parameter of shape (M,)\n",
    "    - x: a Tensor of shape (D,)\n",
    "    Output:\n",
    "    - a Tensor of shape (M,)\n",
    "    \"\"\"\n",
    "    v = W.data @ x.data + b.data\n",
    "    output = Tensor(v, require_grad=any_require_grad([W, b, x]))\n",
    "    output.d = backward_affine_transform\n",
    "    output.backptr = [W, b, x]\n",
    "    \n",
    "    return output\n",
    "\n",
    "\n",
    "def backward_affine_transform(backptr, g):\n",
    "\n",
    "    W, b, x = backptr\n",
    "    \n",
    "    # the gradient is accumulated in the arguments only if required\n",
    "    if W.require_grad:\n",
    "        W.accumulate_gradient(g.reshape(-1, 1) @ x.data.reshape(1, -1))\n",
    "    if b.require_grad:\n",
    "        b.accumulate_gradient(g)\n",
    "    if isinstance(x, Tensor) and x.require_grad:\n",
    "        # (10, 100) (10,) (100,) (10,)\n",
    "        #print(W.data.shape, b.data.shape, x.data.shape, g.shape)\n",
    "        x.accumulate_gradient(W.data.T @ g)"
   ]
  },
  {
   "cell_type": "code",
   "execution_count": 80,
   "metadata": {},
   "outputs": [],
   "source": [
    "# we use an underscore because this function does not manipulate tensors:\n",
    "# it is exactly the same as in the previous exercise\n",
    "def _softmax(x):\n",
    "    x = x - np.max(x)\n",
    "    x = np.exp(x)\n",
    "    x = x / np.sum(x)\n",
    "    return x\n",
    "\n",
    "def nll(x, gold):\n",
    "    \n",
    "    v = -np.log(_softmax(x.data)[gold])\n",
    "    output = Tensor(v, require_grad=x.require_grad)\n",
    "    output.d = backward_nll\n",
    "    output.backptr = [x, gold]\n",
    "    \n",
    "    return output\n",
    "\n",
    "def backward_nll(backptr, g):\n",
    "    x, gold = backptr\n",
    "    \n",
    "    # the gradient is accumulated in the arguments only if required\n",
    "    if x.require_grad:\n",
    "        ft=_softmax(x.data)\n",
    "        ft[gold] -= 1\n",
    "        x.accumulate_gradient(g * ft)"
   ]
  },
  {
   "cell_type": "markdown",
   "metadata": {},
   "source": [
    "# Module\n",
    "\n",
    "Neural networks or parts of neural networks will be stored in Modules.\n",
    "They implement method to retrieve all parameters of the network and subnetwork."
   ]
  },
  {
   "cell_type": "code",
   "execution_count": 81,
   "metadata": {},
   "outputs": [],
   "source": [
    "class Module:\n",
    "    def __init__(self):\n",
    "        raise NotImplemented(\"\")\n",
    "        \n",
    "    def parameters(self):\n",
    "        ret = []\n",
    "        for name in dir(self):\n",
    "            o = self.__getattribute__(name)\n",
    "\n",
    "            if type(o) is Parameter:\n",
    "                ret.append(o)\n",
    "            if isinstance(o, Module) or isinstance(o, ModuleList):\n",
    "                ret.extend(o.parameters())\n",
    "        return ret\n",
    "\n",
    "# if you want to store a list of Parameters or Module,\n",
    "# you must store them in a ModuleList instead of a python list,\n",
    "# in order to collect the parameters correctly\n",
    "class ModuleList(list):\n",
    "    def parameters(self):\n",
    "        ret = []\n",
    "        for m in self:\n",
    "            if type(m) is Parameter:\n",
    "                ret.append(m)\n",
    "            elif isinstance(m, Module) or isinstance(m, ModuleList):\n",
    "                ret.extend(m.parameters())\n",
    "        return ret"
   ]
  },
  {
   "cell_type": "markdown",
   "metadata": {},
   "source": [
    "# Initialization and optimization"
   ]
  },
  {
   "cell_type": "code",
   "execution_count": 82,
   "metadata": {},
   "outputs": [],
   "source": [
    "def zero_init(b):\n",
    "    b[:] = 0.\n",
    "\n",
    "def glorot_init(W):\n",
    "    W[:] = np.random.uniform(-np.sqrt(6. / (W.shape[0] + W.shape[1])), np.sqrt(6. / (W.shape[0] + W.shape[1])), W.shape)\n",
    "    \n",
    "# Look at slides for the formula!\n",
    "def kaiming_init(W):\n",
    "    W[:] = np.random.uniform(-np.sqrt(6. / W.shape[1]), np.sqrt(6. / W.shape[1]), W.shape)"
   ]
  },
  {
   "cell_type": "code",
   "execution_count": 83,
   "metadata": {},
   "outputs": [],
   "source": [
    "# simple gradient descent optimizer\n",
    "class SGD:\n",
    "    def __init__(self, params, lr=0.1):\n",
    "        self.params = params\n",
    "        self.lr = lr\n",
    "        \n",
    "    def step(self):\n",
    "        for p in self.params:\n",
    "            p.data[:] = p.data - self.lr * p.gradient\n",
    "        \n",
    "    def zero_grad(self):\n",
    "        for p in self.params:\n",
    "            p.zero_grad()"
   ]
  },
  {
   "cell_type": "markdown",
   "metadata": {},
   "source": [
    "# Networks and training loop\n",
    "\n",
    "We first create a simple linear classifier, similar to the first lab exercise."
   ]
  },
  {
   "cell_type": "code",
   "execution_count": 84,
   "metadata": {},
   "outputs": [],
   "source": [
    "class LinearNetwork(Module):\n",
    "    def __init__(self, dim_input, dim_output):\n",
    "        # build the parameters\n",
    "        self.W = Parameter(np.ndarray((dim_output, dim_input)), name=\"W\")\n",
    "        self.b = Parameter(np.ndarray((dim_output,)), name=\"b\")\n",
    "        \n",
    "        self.init_parameters()\n",
    "        \n",
    "    def init_parameters(self):\n",
    "        # init parameters of the network (i.e W and b)\n",
    "        glorot_init(self.W.data)\n",
    "        zero_init(self.b.data)\n",
    "        \n",
    "    def forward(self, x):\n",
    "        return  affine_transform(self.W, self.b, x)"
   ]
  },
  {
   "cell_type": "markdown",
   "metadata": {},
   "source": [
    "We will train several neural networks.\n",
    "Therefore, we encapsulate the training loop in a function.\n",
    "\n",
    "**warning**: you have to call optimizer.zero_grad() before each backward pass to reinitialize the gradient of the parameters!"
   ]
  },
  {
   "cell_type": "code",
   "execution_count": 85,
   "metadata": {},
   "outputs": [],
   "source": [
    "import time\n",
    "import datetime\n",
    "\n",
    "def format_time(elapsed):\n",
    "    '''\n",
    "    Takes a time in seconds and returns a string hh:mm:ss\n",
    "    '''\n",
    "    # Round to the nearest second.\n",
    "    elapsed_rounded = int(round((elapsed)))\n",
    "    \n",
    "    # Format as hh:mm:ss\n",
    "    return str(datetime.timedelta(seconds=elapsed_rounded))"
   ]
  },
  {
   "cell_type": "code",
   "execution_count": 117,
   "metadata": {},
   "outputs": [],
   "source": [
    "def training_loop(network, optimizer, train_data, dev_data, n_epochs=10):\n",
    "\n",
    "    # Number of training samples\n",
    "    n_training = train_data[0].shape[0]\n",
    "    n_dev = dev_data[0].shape[0]\n",
    "\n",
    "    # Array containing some stats\n",
    "    avg_losses = np.zeros(n_epochs)\n",
    "    train_acc = np.zeros(n_epochs)\n",
    "    dev_acc_epoch = np.zeros(n_epochs)\n",
    "    dev_acc  =[]\n",
    "     \n",
    "    # parameters to store score and parameters of the best model on dev\n",
    "    best_dev_accuracy = 0\n",
    "    best_params = None  \n",
    "    \n",
    "\n",
    "    # For each epoch...\n",
    "    for epoch_i in range(n_epochs ):\n",
    "        \n",
    "        # ========================================\n",
    "        #               Training\n",
    "        # ========================================\n",
    "        \n",
    "        # Perform one full pass over the training set.\n",
    "\n",
    "        print(\"\")\n",
    "        print('======== Epoch {:} / {:} ========'.format(epoch_i + 1, n_epochs ))\n",
    "        print('Training...')\n",
    "\n",
    "        # Measure how long the training epoch takes.\n",
    "        t0 = time.time()\n",
    "\n",
    "        # Reset the total loss for this epoch.\n",
    "        train_loss = 0\n",
    "        train_correct = 0\n",
    "\n",
    "        # shuffle the data before each epoch\n",
    "        indices = np.random.permutation(n_training)\n",
    "        train_data_shuffled = (train_data[0][indices], train_data[1][indices])   \n",
    "\n",
    "        for i, (x, y) in enumerate (zip (train_data_shuffled[0], train_data_shuffled[1])):\n",
    "            # forward pass\n",
    "            y_hat = network.forward(Tensor(x))\n",
    "            loss = nll(y_hat, y)\n",
    "            train_loss += loss.data\n",
    "\n",
    "            # backward pass\n",
    "            optimizer.zero_grad()\n",
    "            loss.backward(1.0)\n",
    "            optimizer.step()\n",
    "\n",
    "            # compute accuracy on train set\n",
    "            train_correct += int(np.argmax(y_hat.data) == y)\n",
    "\n",
    "            # Compute avg loss, avg train accuracy and dev accuracy\n",
    "            avg_losses[epoch_i] = train_loss/ n_training\n",
    "            train_acc[epoch_i]  = train_correct/ n_training\n",
    "\n",
    "        \n",
    "            # evaluate the model on the dev data after 10000 training examples (5 evaluation per epoch on dev)\n",
    "            if (i+1)% 10000 == 0:\n",
    "                local_acc=[]\n",
    "                dev_correct = 0\n",
    "                for x, y in zip(dev_data[0], dev_data[1]):\n",
    "                    y_hat = network.forward(Tensor(x))\n",
    "                    dev_correct += int(np.argmax(y_hat.data) == y)\n",
    "\n",
    "                dev_accuracy = dev_correct / n_dev  \n",
    "                print(f\" current Dev accuracy: {dev_accuracy:.3f}\")\n",
    "                local_acc.append(dev_accuracy)\n",
    "                dev_acc.append(dev_accuracy)\n",
    "\n",
    "                # check if dev accuracy has improved and update best parameters\n",
    "                if dev_accuracy > best_dev_accuracy:\n",
    "                    best_dev_accuracy = dev_accuracy\n",
    "                    best_params = (network.W, network.b)\n",
    "\n",
    "            \n",
    "\n",
    "        dev_acc_epoch[epoch_i] = max(local_acc)\n",
    "        print('best dev accuracy: ', best_dev_accuracy)\n",
    "            # Measure how long this epoch took.\n",
    "        training_time = format_time(time.time() - t0)\n",
    "            \n",
    "    \n",
    "\n",
    "        print(f\"Average loss: {avg_losses[epoch_i]:.3f}\")\n",
    "        print(f\"Train accuracy: {train_acc[epoch_i]}\")\n",
    "        print(f\"Dev accuracy: {max(dev_acc):.3f}\")\n",
    "        print(\"dev accuracy epoch: {:}\".format(dev_acc_epoch[epoch_i]))\n",
    "        print(\"training epcoh took: {:}\".format(training_time))\n",
    "        #print(f\"Dev loss:   {dev_loss_e}\") \n",
    "    print(len(dev_acc))\n",
    "    return {\"losses\": avg_losses, \"train_acc\": train_acc, \"dev_acc\": dev_acc_epoch}, best_params\n",
    "    "
   ]
  },
  {
   "cell_type": "code",
   "execution_count": 118,
   "metadata": {},
   "outputs": [
    {
     "name": "stdout",
     "output_type": "stream",
     "text": [
      "\n",
      "======== Epoch 1 / 5 ========\n",
      "Training...\n",
      " current Dev accuracy: 0.906\n",
      " current Dev accuracy: 0.909\n",
      " current Dev accuracy: 0.914\n",
      " current Dev accuracy: 0.913\n",
      " current Dev accuracy: 0.920\n",
      "best dev accuracy:  0.9199\n",
      "Average loss: 0.377\n",
      "Train accuracy: 0.89284\n",
      "Dev accuracy: 0.920\n",
      "dev accuracy epoch: 0.9199\n",
      "training epcoh took: 0:00:11\n",
      "\n",
      "======== Epoch 2 / 5 ========\n",
      "Training...\n",
      " current Dev accuracy: 0.918\n",
      " current Dev accuracy: 0.921\n",
      " current Dev accuracy: 0.919\n",
      " current Dev accuracy: 0.921\n",
      " current Dev accuracy: 0.920\n",
      "best dev accuracy:  0.9208\n",
      "Average loss: 0.311\n",
      "Train accuracy: 0.91236\n",
      "Dev accuracy: 0.921\n",
      "dev accuracy epoch: 0.9198\n",
      "training epcoh took: 0:00:09\n",
      "\n",
      "======== Epoch 3 / 5 ========\n",
      "Training...\n",
      " current Dev accuracy: 0.918\n",
      " current Dev accuracy: 0.922\n",
      " current Dev accuracy: 0.919\n",
      " current Dev accuracy: 0.922\n",
      " current Dev accuracy: 0.918\n",
      "best dev accuracy:  0.9217\n",
      "Average loss: 0.298\n",
      "Train accuracy: 0.91636\n",
      "Dev accuracy: 0.922\n",
      "dev accuracy epoch: 0.9183\n",
      "training epcoh took: 0:00:09\n",
      "\n",
      "======== Epoch 4 / 5 ========\n",
      "Training...\n",
      " current Dev accuracy: 0.923\n",
      " current Dev accuracy: 0.924\n",
      " current Dev accuracy: 0.921\n",
      " current Dev accuracy: 0.920\n",
      " current Dev accuracy: 0.922\n",
      "best dev accuracy:  0.9236\n",
      "Average loss: 0.291\n",
      "Train accuracy: 0.91832\n",
      "Dev accuracy: 0.924\n",
      "dev accuracy epoch: 0.9216\n",
      "training epcoh took: 0:00:09\n",
      "\n",
      "======== Epoch 5 / 5 ========\n",
      "Training...\n",
      " current Dev accuracy: 0.921\n",
      " current Dev accuracy: 0.924\n",
      " current Dev accuracy: 0.923\n",
      " current Dev accuracy: 0.927\n",
      " current Dev accuracy: 0.921\n",
      "best dev accuracy:  0.9266\n",
      "Average loss: 0.285\n",
      "Train accuracy: 0.91904\n",
      "Dev accuracy: 0.927\n",
      "dev accuracy epoch: 0.9206\n",
      "training epcoh took: 0:00:11\n",
      "25\n"
     ]
    },
    {
     "data": {
      "text/plain": [
       "({'losses': array([0.37705238, 0.31071325, 0.29779174, 0.29094437, 0.28529983]),\n",
       "  'train_acc': array([0.89284, 0.91236, 0.91636, 0.91832, 0.91904]),\n",
       "  'dev_acc': array([0.9199, 0.9198, 0.9183, 0.9216, 0.9206])},\n",
       " (<__main__.Parameter at 0x27f036b2d60>,\n",
       "  <__main__.Parameter at 0x27f036b2940>))"
      ]
     },
     "execution_count": 118,
     "metadata": {},
     "output_type": "execute_result"
    }
   ],
   "source": [
    "dim_input = 28*28\n",
    "dim_output = 10\n",
    "\n",
    "network = LinearNetwork(dim_input, dim_output)\n",
    "optimizer = SGD(network.parameters(), 0.01)\n",
    "\n",
    "training_loop(network, optimizer, train_data, dev_data, n_epochs=5)"
   ]
  },
  {
   "cell_type": "code",
   "execution_count": 111,
   "metadata": {},
   "outputs": [
    {
     "name": "stdout",
     "output_type": "stream",
     "text": [
      "\n",
      "======== Epoch 1 / 5 ========\n",
      "Training...\n",
      " current Dev accuracy: 0.922\n",
      " current Dev accuracy: 0.925\n",
      " current Dev accuracy: 0.923\n",
      " current Dev accuracy: 0.923\n",
      " current Dev accuracy: 0.923\n",
      "best dev accuracy:  0.925\n",
      "Average loss: 0.282\n",
      "Train accuracy: 0.9205\n",
      "Dev accuracy: 0.925\n",
      "dev accuracy epoch: 0.9232\n",
      "training epcoh took: 0:00:10\n",
      "\n",
      "======== Epoch 2 / 5 ========\n",
      "Training...\n",
      " current Dev accuracy: 0.917\n",
      " current Dev accuracy: 0.927\n",
      " current Dev accuracy: 0.923\n",
      " current Dev accuracy: 0.923\n",
      " current Dev accuracy: 0.921\n",
      "best dev accuracy:  0.9267\n",
      "Average loss: 0.279\n",
      "Train accuracy: 0.9215\n",
      "Dev accuracy: 0.927\n",
      "dev accuracy epoch: 0.9209\n",
      "training epcoh took: 0:00:09\n",
      "\n",
      "======== Epoch 3 / 5 ========\n",
      "Training...\n",
      " current Dev accuracy: 0.925\n",
      " current Dev accuracy: 0.922\n",
      " current Dev accuracy: 0.928\n",
      " current Dev accuracy: 0.925\n",
      " current Dev accuracy: 0.922\n",
      "best dev accuracy:  0.9281\n",
      "Average loss: 0.277\n",
      "Train accuracy: 0.92154\n",
      "Dev accuracy: 0.928\n",
      "dev accuracy epoch: 0.9218\n",
      "training epcoh took: 0:00:09\n",
      "\n",
      "======== Epoch 4 / 5 ========\n",
      "Training...\n",
      " current Dev accuracy: 0.924\n",
      " current Dev accuracy: 0.926\n",
      " current Dev accuracy: 0.921\n",
      " current Dev accuracy: 0.923\n",
      " current Dev accuracy: 0.923\n",
      "best dev accuracy:  0.9281\n",
      "Average loss: 0.275\n",
      "Train accuracy: 0.92336\n",
      "Dev accuracy: 0.928\n",
      "dev accuracy epoch: 0.9228\n",
      "training epcoh took: 0:00:10\n",
      "\n",
      "======== Epoch 5 / 5 ========\n",
      "Training...\n",
      " current Dev accuracy: 0.927\n",
      " current Dev accuracy: 0.924\n",
      " current Dev accuracy: 0.922\n",
      " current Dev accuracy: 0.927\n",
      " current Dev accuracy: 0.926\n",
      "best dev accuracy:  0.9281\n",
      "Average loss: 0.273\n",
      "Train accuracy: 0.92286\n",
      "Dev accuracy: 0.928\n",
      "dev accuracy epoch: 0.9264\n",
      "training epcoh took: 0:00:09\n"
     ]
    },
    {
     "ename": "KeyError",
     "evalue": "'dev_acc_epoch'",
     "output_type": "error",
     "traceback": [
      "\u001b[1;31m---------------------------------------------------------------------------\u001b[0m",
      "\u001b[1;31mKeyError\u001b[0m                                  Traceback (most recent call last)",
      "Cell \u001b[1;32mIn[111], line 15\u001b[0m\n\u001b[0;32m     12\u001b[0m     ax[\u001b[39m1\u001b[39m]\u001b[39m.\u001b[39mlegend()\n\u001b[0;32m     14\u001b[0m history, best_params \u001b[39m=\u001b[39m training_loop(network, optimizer, train_data, dev_data, n_epochs\u001b[39m=\u001b[39m\u001b[39m5\u001b[39m)\n\u001b[1;32m---> 15\u001b[0m plot_loss_acc(history[\u001b[39m\"\u001b[39m\u001b[39mlosses\u001b[39m\u001b[39m\"\u001b[39m], history[\u001b[39m\"\u001b[39m\u001b[39mtrain_acc\u001b[39m\u001b[39m\"\u001b[39m], history[\u001b[39m\"\u001b[39;49m\u001b[39mdev_acc_epoch\u001b[39;49m\u001b[39m\"\u001b[39;49m])\n",
      "\u001b[1;31mKeyError\u001b[0m: 'dev_acc_epoch'"
     ]
    }
   ],
   "source": [
    "def plot_loss_acc(avg_losses, train_acc, dev_acc_epoch):\n",
    "    fig, ax = plt.subplots(1, 2, figsize=(15, 5))\n",
    "    ax[0].plot(avg_losses, label='train loss')\n",
    "    ax[0].set_xlabel('Epoch')\n",
    "    ax[0].set_ylabel('Loss')\n",
    "    ax[0].legend()\n",
    "\n",
    "    ax[1].plot(train_acc, label='train accuracy')\n",
    "    ax[1].plot(dev_acc_epoch, label='dev accuracy')\n",
    "    ax[1].set_xlabel('Epoch')\n",
    "    ax[1].set_ylabel('Accuracy')\n",
    "    ax[1].legend()\n",
    "\n",
    "history, best_params = training_loop(network, optimizer, train_data, dev_data, n_epochs=5)\n"
   ]
  },
  {
   "cell_type": "code",
   "execution_count": 113,
   "metadata": {},
   "outputs": [
    {
     "data": {
      "image/png": "[encoded data removed]",
      "text/plain": [
       "<Figure size 1500x500 with 2 Axes>"
      ]
     },
     "metadata": {},
     "output_type": "display_data"
    }
   ],
   "source": [
    "plot_loss_acc(history[\"losses\"], history[\"train_acc\"], history[\"dev_acc\"])"
   ]
  },
  {
   "cell_type": "code",
   "execution_count": 116,
   "metadata": {},
   "outputs": [
    {
     "name": "stdout",
     "output_type": "stream",
     "text": [
      "Best parameters: test_accuracy=0.9239\n"
     ]
    }
   ],
   "source": [
    "n_test = test_data[0].shape[0]\n",
    "W_best, b_best = best_params\n",
    "test_correct = 0\n",
    "for x, y in zip(test_data[0], test_data[1]):\n",
    "    y_hat = affine_transform(W_best, b_best, x)\n",
    "    test_correct += int(np.argmax(y_hat.data) == y)\n",
    "\n",
    "test_accuracy = test_correct / n_test\n",
    "\n",
    "print(\"Best parameters: test_accuracy=%.4f\" % test_accuracy)"
   ]
  },
  {
   "cell_type": "markdown",
   "metadata": {},
   "source": [
    "After you finished the linear network, you can move to a deep network!"
   ]
  },
  {
   "cell_type": "code",
   "execution_count": null,
   "metadata": {},
   "outputs": [],
   "source": [
    "class DeepNetwork(Module):\n",
    "    def __init__(self, dim_input, dim_output, hidden_dim, n_layers, tanh=False):\n",
    "        self.W = ModuleList()\n",
    "        self.b = ModuleList()\n",
    "        \n",
    "        # TODO...\n",
    "        \n",
    "        self.output_proj = # TODO\n",
    "        self.output_bias = # TODO\n",
    "        \n",
    "        self.init_parameters()\n",
    "        \n",
    "    def init_parameters(self):\n",
    "        # TODO...\n",
    "\n",
    "    def forward(self, x):\n",
    "        # TODO"
   ]
  },
  {
   "cell_type": "code",
   "execution_count": null,
   "metadata": {},
   "outputs": [],
   "source": [
    "dim_input = 28*28\n",
    "dim_output = 10\n",
    "\n",
    "network = DeepNetwork(dim_input, dim_output, 100, 2)\n",
    "optimizer = SGD(network.parameters(), 0.01)\n",
    "\n",
    "training_loop(network, optimizer, train_data, dev_data, n_epochs=5)"
   ]
  },
  {
   "cell_type": "markdown",
   "metadata": {},
   "source": [
    "## Bonus\n",
    "\n",
    "You can try to implement a momentum SGD optimizer! Note that you have to keep track of the velocity for each parameter in the optimizer.\n"
   ]
  }
 ],
 "metadata": {
  "kernelspec": {
   "display_name": "Python 3 (ipykernel)",
   "language": "python",
   "name": "python3"
  },
  "language_info": {
   "codemirror_mode": {
    "name": "ipython",
    "version": 3
   },
   "file_extension": ".py",
   "mimetype": "text/x-python",
   "name": "python",
   "nbconvert_exporter": "python",
   "pygments_lexer": "ipython3",
   "version": "3.9.7"
  }
 },
 "nbformat": 4,
 "nbformat_minor": 2
}
